{
 "cells": [
  {
   "cell_type": "markdown",
   "metadata": {
    "id": "xp_6o7qvZP9F"
   },
   "source": [
    "# Stack summarizer and downscaler\n",
    "\n",
    "This script contains the code for:\n",
    "\n",
    "* Summarizing the images from the given folder(s) into the float32 2-channel ImageJ-compatible tiff-image\n",
    "* Creating the 2-channel Z-stack uint16 2-channel ImageJ-compatible tiff-image from the images in given folder(s) with it's simultaneous downscaling in X, Y and Z dimentions\n",
    "\n",
    "*Also it has a part of examplary code for working in Google Collab on images from Google Drive.*\n",
    "\n",
    "*Has examplary code for checking the number of images in input folder(s) and filtering based on it.*"
   ]
  },
  {
   "cell_type": "code",
   "execution_count": null,
   "metadata": {
    "id": "NIxwLlay1D7c"
   },
   "outputs": [],
   "source": [
    "# Mounting the Google-drive, if it is used in Google Collab on images on Google disk\n",
    "from google.colab import drive\n",
    "drive.mount('/content/drive')"
   ]
  },
  {
   "cell_type": "code",
   "execution_count": null,
   "metadata": {
    "id": "9J_BTVHI1VkB"
   },
   "outputs": [],
   "source": [
    "# Importing needed libraries\n",
    "import glob\n",
    "from PIL import Image\n",
    "import numpy as np\n",
    "from google.colab import files\n",
    "import tifffile as tf\n",
    "from tqdm import tqdm\n",
    "from pathlib import Path\n",
    "import imageio.v2 as imageio\n",
    "import os\n",
    "from skimage.transform import downscale_local_mean"
   ]
  },
  {
   "cell_type": "markdown",
   "metadata": {
    "id": "58wnluHwbQoV"
   },
   "source": [
    "### Define the functions for easy coding"
   ]
  },
  {
   "cell_type": "code",
   "execution_count": null,
   "metadata": {
    "id": "IlMDIfZgsmzv"
   },
   "outputs": [],
   "source": [
    "# If the images in the input folder are from the 2 channels, this function separate the given list of images to 2 separate lists based on 'ch1' and 'ch2' keywords presence in the each image name\n",
    "def channel_splitter(folder):\n",
    "  images_ch1 = []\n",
    "  images_ch2 = []\n",
    "  list_of_images = glob.glob(f'{folder}/*')\n",
    "  for image in list_of_images:\n",
    "    if \"ch1\" in image:\n",
    "      images_ch1.append(image)\n",
    "    elif 'ch2' in image:\n",
    "      images_ch2.append(image)\n",
    "  return images_ch1, images_ch2"
   ]
  },
  {
   "cell_type": "code",
   "execution_count": null,
   "metadata": {
    "id": "w1de7o3Yty3X"
   },
   "outputs": [],
   "source": [
    "# This function uses as input the list of images and summarize them into 1 array of uint32 type\n",
    "def summarizer(img_list):\n",
    "  sum_array = imageio.imread(img_list[0]).astype(np.uint32)\n",
    "  for image in img_list[1:]:\n",
    "    image_array = imageio.imread(image).astype(np.uint32)\n",
    "    sum_array += image_array\n",
    "  return sum_array"
   ]
  },
  {
   "cell_type": "code",
   "execution_count": null,
   "metadata": {
    "id": "TNowu0Zw9Ony"
   },
   "outputs": [],
   "source": [
    "# This function uses as input the list of images, stack them in Z-dimantion and downscale in X Y and Z dimentions on the given factor (2, 2, 2) by default. May be changed when the function is called\n",
    "def stack_downscaling(path_list, downscale_factor = (2, 2, 2)):\n",
    "    first_image = imageio.imread(path_list[0])\n",
    "    num_images = len(path_list)\n",
    "    image_shape = first_image.shape\n",
    "    image_tensors = np.empty((num_images,) + image_shape, dtype=first_image.dtype)\n",
    "    image_tensors[0] = first_image\n",
    "    for i, image_path in enumerate(path_list[1:]):\n",
    "        image = imageio.imread(image_path)\n",
    "        image_tensors[i + 1] = image\n",
    "    image_tensors = downscale_local_mean(image_tensors, downscale_factor)\n",
    "    return image_tensors"
   ]
  },
  {
   "cell_type": "markdown",
   "metadata": {
    "id": "XJa0sEAdZOMx"
   },
   "source": [
    "## Image processing step"
   ]
  },
  {
   "cell_type": "code",
   "execution_count": null,
   "metadata": {
    "id": "CPh9mWsF1PWR"
   },
   "outputs": [],
   "source": [
    "# This part of the code is used if multiple folders of images are given and checks if there are 1198 images: this folders are sent to a list for a summarizing task; if number of images in the folder is more than 1198, this folders are sent to another list for a downscaling task\n",
    "to_summary_2channels = []\n",
    "to_downscaling_z_stacks = []\n",
    "for folder in glob.glob('/content/drive/MyDrive/2023_09_04/*/*/Exported Images'):\n",
    "  if len(glob.glob(f'{folder}/*')) == 1198:\n",
    "    to_summary_2channels.append(folder)\n",
    "  elif len(glob.glob(f'{folder}/*')) > 1198:\n",
    "    to_downscaling_z_stacks.append(folder)"
   ]
  },
  {
   "cell_type": "markdown",
   "metadata": {
    "id": "fWyI4N56fh2K"
   },
   "source": [
    "### Summarizing the images of separate channels and saving the 2-channel tif"
   ]
  },
  {
   "cell_type": "code",
   "execution_count": null,
   "metadata": {
    "id": "fm9rjEwLhzeb"
   },
   "outputs": [],
   "source": [
    "# Iterating through a list of folders, processing and summarizing two channels of image data, and saving the result.\n",
    "for folder in tqdm(to_summary_2channels):\n",
    "\n",
    "# Define the output folder based on the channel content.\n",
    "  output_folder = \"/content/drive/MyDrive/Output\"\n",
    "  if 'hoechst' in folder:\n",
    "    output_folder = output_folder + \"/Hoechst\"\n",
    "  elif 'FOV2_Hoechst' in folder:\n",
    "    output_folder = output_folder + \"/FOV2_Hoechst\"\n",
    "  elif 'GFP' in folder:\n",
    "    output_folder = output_folder + \"/GFP\"\n",
    "# Create the output folder if it doesn't exist.\n",
    "  path = Path(output_folder)\n",
    "  path.mkdir(parents=True, exist_ok=True)\n",
    "# Split the channels in the image folder by channel.\n",
    "  images_ch1, images_ch2 = channel_splitter(folder)\n",
    "# Summarize each channel.\n",
    "  ch1 = summarizer(images_ch1)\n",
    "  ch2 = summarizer(images_ch2)\n",
    "# Combine the channels into a two-channel image and convert to the appropriate data type.\n",
    "  two_channel_image = np.stack((ch1, ch2), axis=0)\n",
    "  two_channel_image = two_channel_image.astype(np.float32)\n",
    "# Save the two-channel image to a TIF file with a name based on the folder into the right output folder.\n",
    "  tf.imwrite(f'{output_folder}/{folder.split(\"/\")[-2]}.tif', two_channel_image, imagej=True)"
   ]
  },
  {
   "cell_type": "markdown",
   "metadata": {
    "id": "EY8bOz7ZgA-s"
   },
   "source": [
    "### Creating the downscaled 2-channel Z-stacks"
   ]
  },
  {
   "cell_type": "code",
   "execution_count": null,
   "metadata": {
    "id": "taBHgv6b9lsV"
   },
   "outputs": [],
   "source": [
    "# Iterate through a list of folders containing images for z-stack creating and downscaling\n",
    "for folder in tqdm(to_downscaling_z_stacks):\n",
    "# Define the output folder path based on the channel content.\n",
    "  output_folder = \"/content/drive/MyDrive/Output/Downscaled_zstacks\"\n",
    "  if 'hoechst' in folder:\n",
    "    output_folder = output_folder + \"/Hoechst\"\n",
    "  elif 'FOV2_Hoechst' in folder:\n",
    "    output_folder = output_folder + \"/FOV2_Hoechst\"\n",
    "  elif 'GFP' in folder:\n",
    "    output_folder = output_folder + \"/GFP\"\n",
    "# Create the output folder if it doesn't exist.\n",
    "  path = Path(output_folder)\n",
    "  path.mkdir(parents=True, exist_ok=True)\n",
    "# Split the channels in the image folder by channel.\n",
    "  ch1_list, ch2_list = channel_splitter(to_downscaling_z_stacks[0])\n",
    "# Downscale and process the first channel and print processing status.\n",
    "  ch1_array = stack_downscaling(ch1_list)\n",
    "  print(folder.split(\"/\")[-2])\n",
    "  print('Ready channel 1; processed', len(ch1_list), 'images')\n",
    "# Downscale and process the second channel and print processing status.\n",
    "  ch2_array = stack_downscaling(ch2_list)\n",
    "  print('Ready channel 2; processed', len(ch2_list), 'images')\n",
    " # Combine the processed channels into a two-channel image, and convert to uint16 data type.\n",
    "  two_channel_image = np.stack((ch1_array, ch2_array), axis=1).astype(np.uint16)\n",
    "# Save the two-channel image to a TIF file with a name based on the folder.\n",
    "  tf.imwrite(f'{output_folder}/{folder.split(\"/\")[-2]}.tif', two_channel_image, imagej=True)"
   ]
  },
  {
   "cell_type": "code",
   "execution_count": null,
   "metadata": {
    "id": "WGGT1Z6QCEOz"
   },
   "outputs": [],
   "source": []
  }
 ],
 "metadata": {
  "colab": {
   "gpuType": "T4",
   "provenance": []
  },
  "kernelspec": {
   "display_name": "Python 3 (ipykernel)",
   "language": "python",
   "name": "python3"
  },
  "language_info": {
   "codemirror_mode": {
    "name": "ipython",
    "version": 3
   },
   "file_extension": ".py",
   "mimetype": "text/x-python",
   "name": "python",
   "nbconvert_exporter": "python",
   "pygments_lexer": "ipython3",
   "version": "3.9.12"
  }
 },
 "nbformat": 4,
 "nbformat_minor": 1
}
